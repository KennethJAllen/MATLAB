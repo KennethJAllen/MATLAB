{
 "cells": [
  {
   "cell_type": "markdown",
   "metadata": {},
   "source": [
    "# Image Completion"
   ]
  },
  {
   "cell_type": "markdown",
   "metadata": {},
   "source": [
    "## Import packages"
   ]
  },
  {
   "cell_type": "code",
   "execution_count": 52,
   "metadata": {},
   "outputs": [],
   "source": [
    "import sys\n",
    "import os\n",
    "from PIL import Image\n",
    "import numpy as np\n",
    "import matplotlib.pyplot as plt\n",
    "\n",
    "sys.path.append(os.path.abspath(\"..\")) # Add the parent directory to the system path\n",
    "\n",
    "from data_completion_python import maxvol, matrix_completion, utils"
   ]
  },
  {
   "cell_type": "markdown",
   "metadata": {},
   "source": [
    "## Low-Rank Matrix Completion\n",
    "\n",
    "We will demonstrate how missing data can be recovered using low-rank matrix completion.\n",
    "\n",
    "As an example, we will use this image of a house as an example."
   ]
  },
  {
   "cell_type": "code",
   "execution_count": null,
   "metadata": {},
   "outputs": [],
   "source": [
    "# Read house image\n",
    "house_img = Image.open('../images/input/house.png').convert('L')\n",
    "plt.imshow(house_img, cmap='grey')\n",
    "plt.show()"
   ]
  },
  {
   "cell_type": "markdown",
   "metadata": {},
   "source": [
    "### Delete Data\n",
    "\n",
    "35% of the data will be deleted at random."
   ]
  },
  {
   "cell_type": "code",
   "execution_count": null,
   "metadata": {},
   "outputs": [],
   "source": [
    "house_array = np.array(house_img)\n",
    "m, n = np.shape(house_array) # dimensions of image\n",
    "known_ratio = 0.65 # percentage of known entries\n",
    "num_known = round(known_ratio * m * n) # number of known entries\n",
    "house_mask = utils.random_mask(m, n, num_known)\n",
    "house_missing_data = house_array.copy()\n",
    "house_missing_data[~house_mask] = 0\n",
    "plt.imshow(house_missing_data, cmap='grey')\n",
    "plt.show()"
   ]
  },
  {
   "cell_type": "markdown",
   "metadata": {},
   "source": [
    "### Alternating Projection\n",
    "\n",
    "Complete the house image using the alternating projection method."
   ]
  },
  {
   "cell_type": "code",
   "execution_count": 55,
   "metadata": {},
   "outputs": [],
   "source": [
    "rank = int(min(m, n)/12)\n",
    "alt_proj_house_completion = matrix_completion.alternating_projection(house_missing_data, house_mask, rank)"
   ]
  },
  {
   "cell_type": "code",
   "execution_count": null,
   "metadata": {},
   "outputs": [],
   "source": [
    "plt.imshow(alt_proj_house_completion, cmap='grey', vmin=0, vmax=255)\n",
    "plt.show()"
   ]
  },
  {
   "cell_type": "markdown",
   "metadata": {},
   "source": [
    "## Maximum Volume Algorithms\n",
    "\n",
    "Maximum volume algorithms find close to maximum volume submatrices of a matrix. Here the volume of a matrix is the absolute value of the determinant.\n",
    "\n",
    "Maximum volume submatrices are important to find because they minimize the error of the CUR decomposition of the matrix if they matrix is high rank.\n",
    "\n",
    "The quality of the decomposition is taken with respect to the peak signal to nosie ratio (PSNR). As will be demonstrated, the PSNR of the CUR decomposition is much better when taken with respect to a maximum volume submatrix."
   ]
  },
  {
   "cell_type": "markdown",
   "metadata": {},
   "source": [
    "### Arbitrary Submatrix 👎\n",
    "\n",
    "To demonstrate the effectiveness of using a maximum volume submatrix for the CUR decomposition, we will take the CUR decomposition with respect to an arbitrary submatrix, which will result in an approximation with extremely high noise."
   ]
  },
  {
   "cell_type": "code",
   "execution_count": null,
   "metadata": {},
   "outputs": [],
   "source": [
    "I_random = np.random.choice(3*m//4, rank, replace=False) + m//8 # random row indices\n",
    "J_random = np.random.choice(3*n//4, rank, replace=False) + n//8 # random column indices\n",
    "\n",
    "random_deletion = utils.forget_compliment(house_array, I_random, J_random)\n",
    "cur_random = maxvol.cur_decomposition(house_array, I_random, J_random)\n",
    "random_approx_psnr = utils.psnr(cur_random, house_array)\n",
    "\n",
    "fig_rand, axes_rand = plt.subplots(1, 2, figsize=(10, 5))  # 1 row, 2 columns\n",
    "fig_rand.suptitle('Arbitrary Index CUR Decomposition')\n",
    "\n",
    "axes_rand[0].imshow(random_deletion, cmap='grey', vmin=0, vmax=255)\n",
    "axes_rand[0].set_title('Compressed Image')\n",
    "\n",
    "axes_rand[1].imshow(cur_random, cmap='grey', vmin=0, vmax=255)\n",
    "axes_rand[1].set_title(f'Completion PSNR {round(random_approx_psnr, 3)}')\n",
    "plt.show()"
   ]
  },
  {
   "cell_type": "markdown",
   "metadata": {},
   "source": [
    "### Maximum Volumne Submatrix 👍\n",
    "\n",
    "Now we will take the CUR decomposition with respect to a maximum volume submatrix. This approximation is much closer to the original image than the arbitrary CUR decomposition is. "
   ]
  },
  {
   "cell_type": "code",
   "execution_count": null,
   "metadata": {},
   "outputs": [],
   "source": [
    "I_maxvol, J_maxvol = maxvol.alternating_maxvol(house_array, I_random, J_random)\n",
    "\n",
    "maxvol_deletion = utils.forget_compliment(house_array, I_maxvol, J_maxvol)\n",
    "cur_maxvol = maxvol.cur_decomposition(house_array, I_maxvol, J_maxvol)\n",
    "maxvol_approx_psnr = utils.psnr(cur_maxvol, house_array)\n",
    "\n",
    "fig_cur, axes_cur = plt.subplots(1, 2, figsize=(10, 5))  # 1 row, 2 columns\n",
    "fig_cur.suptitle('Maxvol CUR Decomposition')\n",
    "\n",
    "axes_cur[0].imshow(maxvol_deletion, cmap='grey', vmin=0, vmax=255)\n",
    "axes_cur[0].set_title('Compressed Image')\n",
    "\n",
    "axes_cur[1].imshow(cur_maxvol, cmap='grey', vmin=0, vmax=255)\n",
    "axes_cur[1].set_title(f'Completion PSNR {round(maxvol_approx_psnr, 3)}')\n",
    "plt.show()"
   ]
  },
  {
   "cell_type": "markdown",
   "metadata": {},
   "source": [
    "### Side By Side Comparison"
   ]
  },
  {
   "cell_type": "code",
   "execution_count": null,
   "metadata": {},
   "outputs": [],
   "source": [
    "fig, axes = plt.subplots(2, 2, figsize=(10, 10))  # 2 row, 2 columns\n",
    "fig.suptitle('Maxvol vs. Random CUR Decomposition')\n",
    "axes[0, 0].imshow(maxvol_deletion, cmap='grey', vmin=0, vmax=255)\n",
    "axes[0, 1].imshow(cur_maxvol, cmap='grey', vmin=0, vmax=255)\n",
    "axes[1, 0].imshow(random_deletion, cmap='grey', vmin=0, vmax=255)\n",
    "axes[1, 1].imshow(cur_random, cmap='grey', vmin=0, vmax=255)\n",
    "\n",
    "axes[0, 1].set_title(f'Completion PSNR {round(maxvol_approx_psnr, 3)}')\n",
    "axes[1, 1].set_title(f'Completion PSNR {round(random_approx_psnr, 3)}')\n",
    "axes[0, 0].set_ylabel('Maxvol Chosen Submatrix', rotation=90, size='large', labelpad=15)\n",
    "axes[1, 0].set_ylabel('Arbitrary Submatrix', rotation=90, size='large', labelpad=15)\n",
    "axes[1, 0].set_xlabel('Compressed Images', size='large', labelpad=15)\n",
    "axes[1, 1].set_xlabel('Completed Data', size='large', labelpad=15)\n",
    "\n",
    "plt.savefig('../images/output/demo/cur_img_compression.png')\n",
    "plt.show()"
   ]
  }
 ],
 "metadata": {
  "kernelspec": {
   "display_name": "Python 3",
   "language": "python",
   "name": "python3"
  },
  "language_info": {
   "codemirror_mode": {
    "name": "ipython",
    "version": 3
   },
   "file_extension": ".py",
   "mimetype": "text/x-python",
   "name": "python",
   "nbconvert_exporter": "python",
   "pygments_lexer": "ipython3",
   "version": "3.12.2"
  }
 },
 "nbformat": 4,
 "nbformat_minor": 2
}
